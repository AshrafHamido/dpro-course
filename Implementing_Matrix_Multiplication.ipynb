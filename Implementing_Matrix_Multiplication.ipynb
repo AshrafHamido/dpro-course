{
  "nbformat": 4,
  "nbformat_minor": 0,
  "metadata": {
    "colab": {
      "provenance": []
    },
    "kernelspec": {
      "name": "python3",
      "display_name": "Python 3"
    },
    "language_info": {
      "name": "python"
    }
  },
  "cells": [
    {
      "cell_type": "markdown",
      "source": [
        "**[Problem 1]: Calculating matrix multiplication by hand**"
      ],
      "metadata": {
        "id": "SljA9H9a8ly3"
      }
    },
    {
      "cell_type": "markdown",
      "source": [
        "# Matrix Multiplication:\n",
        "\n",
        "Matrix \\( A \\):\n",
        "\\\n",
        "\\begin{bmatrix}\n",
        "-1 & 2 & 3 \\\\\n",
        "4 & -5 & 6 \\\\\n",
        "7 & 8 & -9\n",
        "\\end{bmatrix}\n",
        "\n",
        "\n",
        "Matrix \\( B \\):\n",
        "\\\n",
        "\\begin{bmatrix}\n",
        "0 & 2 & 1 \\\\\n",
        "0 & 2 & -8 \\\\\n",
        "2 & 9 & -1\n",
        "\\end{bmatrix}\n",
        "\n",
        "---\n",
        "\n",
        "## Step-by-Step Calculation\n",
        "\n",
        "### Row 1 of \\( A \\) with Columns of \\( B \\)\n",
        "1. \\( C[1,1] = (-1)(0) + (2)(0) + (3)(2) = 0 + 0 + 6 = 6 \\)\n",
        "2. \\( C[1,2] = (-1)(2) + (2)(2) + (3)(9) = -2 + 4 + 27 = 29 \\)\n",
        "3. \\( C[1,3] = (-1)(1) + (2)(-8) + (3)(-1) = -1 - 16 - 3 = -20 \\)\n",
        "\n",
        "### Row 2 of \\( A \\) with Columns of \\( B \\)\n",
        "1. \\( C[2,1] = (4)(0) + (-5)(0) + (6)(2) = 0 + 0 + 12 = 12 \\)\n",
        "2. \\( C[2,2] = (4)(2) + (-5)(2) + (6)(9) = 8 - 10 + 54 = 52 \\)\n",
        "3. \\( C[2,3] = (4)(1) + (-5)(-8) + (6)(-1) = 4 + 40 - 6 = 38 \\)\n",
        "\n",
        "### Row 3 of \\( A \\) with Columns of \\( B \\)\n",
        "1. \\( C[3,1] = (7)(0) + (8)(0) + (-9)(2) = 0 + 0 - 18 = -18 \\)\n",
        "2. \\( C[3,2] = (7)(2) + (8)(2) + (-9)(9) = 14 + 16 - 81 = -51 \\)\n",
        "3. \\( C[3,3] = (7)(1) + (8)(-8) + (-9)(-1) = 7 - 64 + 9 = -48 \\)\n",
        "\n",
        "---\n",
        "\n",
        "## Final Result\n",
        "\n",
        "The resulting matrix \\( C \\) is:\n",
        "\\\n",
        "\\begin{bmatrix}\n",
        "6 & 29 & -20 \\\\\n",
        "12 & 52 & 38 \\\\\n",
        "-18 & -51 & -48\n",
        "\\end{bmatrix}\n"
      ],
      "metadata": {
        "id": "j45qTp36-Mjn"
      }
    },
    {
      "cell_type": "markdown",
      "source": [
        "**[Problem 2]: Calculation using NumPy functions**"
      ],
      "metadata": {
        "id": "6AHnzheh-OIY"
      }
    },
    {
      "cell_type": "code",
      "source": [
        "import numpy as np\n",
        "\n",
        "# Define the matrices\n",
        "a_ndarray = np.array([[-1, 2, 3], [4, -5, 6], [7, 8, -9]])\n",
        "b_ndarray = np.array([[0, 2, 1], [0, 2, -8], [2, 9, -1]])\n",
        "\n",
        "# Perform matrix multiplication using np.dot\n",
        "result_with_dot = np.dot(a_ndarray, b_ndarray)\n",
        "result_with_dot"
      ],
      "metadata": {
        "colab": {
          "base_uri": "https://localhost:8080/"
        },
        "id": "sY7keNC-_UDG",
        "outputId": "6128cd0a-6dc6-4d58-a3cf-aefdbf7ef059"
      },
      "execution_count": 9,
      "outputs": [
        {
          "output_type": "execute_result",
          "data": {
            "text/plain": [
              "array([[  6,  29, -20],\n",
              "       [ 12,  52,  38],\n",
              "       [-18, -51, -48]])"
            ]
          },
          "metadata": {},
          "execution_count": 9
        }
      ]
    },
    {
      "cell_type": "markdown",
      "source": [
        "**[Problem 3]: Implementing calculations for a certain element**"
      ],
      "metadata": {
        "id": "GDFhYM8g_vqG"
      }
    },
    {
      "cell_type": "code",
      "source": [
        "import numpy as np\n",
        "\n",
        "# Define matrices\n",
        "a_ndarray = np.array([[-1, 2, 3], [4, -5, 6], [7, 8, -9]])\n",
        "b_ndarray = np.array([[0, 2, 1], [0, 2, -8], [2, 9, -1]])\n",
        "\n",
        "# Solve the matrix product using np.matmul\n",
        "result_with_matmul = np.matmul(a_ndarray, b_ndarray)\n",
        "result_with_matmul"
      ],
      "metadata": {
        "colab": {
          "base_uri": "https://localhost:8080/"
        },
        "id": "vwLKGaBcBJ7Z",
        "outputId": "189bf52e-f039-4a73-98d3-78e5f914cbd5"
      },
      "execution_count": 8,
      "outputs": [
        {
          "output_type": "stream",
          "name": "stdout",
          "text": [
            "[[  6  29 -20]\n",
            " [ 12  52  38]\n",
            " [-18 -51 -48]]\n"
          ]
        }
      ]
    },
    {
      "cell_type": "markdown",
      "source": [
        "**[Problem 4]: Creating a function to perform matrix multiplication**"
      ],
      "metadata": {
        "id": "qv40NlZJBze4"
      }
    },
    {
      "cell_type": "code",
      "source": [
        "import numpy as np\n",
        "\n",
        "# Define matrices A and B\n",
        "a_ndarray = np.array([[-1, 2, 3], [4, -5, 6], [7, 8, -9]])\n",
        "b_ndarray = np.array([[0, 2, 1], [0, 2, -8], [2, 9, -1]])\n",
        "\n",
        "# Initialize an empty result matrix of the same size as the output (3x3)\n",
        "result = np.zeros((a_ndarray.shape[0], b_ndarray.shape[1]))\n",
        "\n",
        "# Perform manual matrix multiplication\n",
        "for i in range(a_ndarray.shape[0]):  # Iterate over rows of A\n",
        "    for j in range(b_ndarray.shape[1]):  # Iterate over columns of B\n",
        "        for k in range(a_ndarray.shape[1]):  # Iterate over elements in the row/column\n",
        "            result[i, j] += a_ndarray[i, k] * b_ndarray[k, j]\n",
        "\n",
        "result"
      ],
      "metadata": {
        "colab": {
          "base_uri": "https://localhost:8080/"
        },
        "id": "pcFjigaxB1-8",
        "outputId": "9b9bf73f-ee59-405f-90ae-a8d2a69a75d5"
      },
      "execution_count": 10,
      "outputs": [
        {
          "output_type": "execute_result",
          "data": {
            "text/plain": [
              "array([[  6.,  29., -20.],\n",
              "       [ 12.,  52.,  38.],\n",
              "       [-18., -51., -48.]])"
            ]
          },
          "metadata": {},
          "execution_count": 10
        }
      ]
    },
    {
      "cell_type": "markdown",
      "source": [
        "**[Problem 5]: Evaluating inputs that are not defined**"
      ],
      "metadata": {
        "id": "jmDhitHwESSp"
      }
    },
    {
      "cell_type": "code",
      "source": [
        "import numpy as np\n",
        "\n",
        "def validate_and_multiply(A, B):\n",
        "    \"\"\"\n",
        "    Validates input arrays A and B for matrix multiplication.\n",
        "    If valid, computes the product. Otherwise, displays an error message.\n",
        "    \"\"\"\n",
        "    # Check if the number of columns in A matches the number of rows in B\n",
        "    if A.shape[1] != B.shape[0]:\n",
        "        print(\"Error: Matrix dimensions do not match for multiplication.\")\n",
        "        print(f\"Matrix A dimensions: {A.shape}\")\n",
        "        print(f\"Matrix B dimensions: {B.shape}\")\n",
        "        return None  # Return None if validation fails\n",
        "\n",
        "    # Perform matrix multiplication if valid\n",
        "    result = np.matmul(A, B)\n",
        "    return result\n",
        "\n",
        "# Example matrices\n",
        "D = np.array([[1, 2], [-3, 4]])\n",
        "E = np.array([[5, 6, 7], [8, -9, 10]])\n",
        "\n",
        "# Attempt multiplication\n",
        "output = validate_and_multiply(D, E)\n",
        "\n",
        "if output is not None:\n",
        "    print(\"Matrix product:\")\n",
        "    print(output)"
      ],
      "metadata": {
        "colab": {
          "base_uri": "https://localhost:8080/"
        },
        "id": "Urych8YjEV3Q",
        "outputId": "63e677e7-2563-4706-9842-3371f431de7d"
      },
      "execution_count": 13,
      "outputs": [
        {
          "output_type": "stream",
          "name": "stdout",
          "text": [
            "Matrix product:\n",
            "[[ 21 -12  27]\n",
            " [ 17 -54  19]]\n"
          ]
        }
      ]
    },
    {
      "cell_type": "markdown",
      "source": [
        "**[Question 6]: Configuration**"
      ],
      "metadata": {
        "id": "xBhQIVAwG3ep"
      }
    },
    {
      "cell_type": "code",
      "source": [
        "import numpy as np\n",
        "\n",
        "# Define matrices A and B\n",
        "a_ndarray = np.array([[-1, 2, 3], [4, -5, 6], [7, 8, -9]])\n",
        "b_ndarray = np.array([[0, 2, 1], [0, 2, -8], [2, 9, -1]])\n",
        "\n",
        "# Calculate the product A * B^T\n",
        "result = np.dot(a_ndarray, b_ndarray.T)\n",
        "print(result)"
      ],
      "metadata": {
        "colab": {
          "base_uri": "https://localhost:8080/"
        },
        "id": "bh7Y9UHRG8rt",
        "outputId": "58767f4e-f865-4fd5-b831-6dae033f456f"
      },
      "execution_count": 20,
      "outputs": [
        {
          "output_type": "stream",
          "name": "stdout",
          "text": [
            "[[  7 -20  13]\n",
            " [ -4 -58 -43]\n",
            " [  7  88  95]]\n"
          ]
        }
      ]
    }
  ]
}